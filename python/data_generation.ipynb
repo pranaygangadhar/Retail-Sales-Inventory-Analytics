{
 "cells": [
  {
   "cell_type": "code",
   "execution_count": 1,
   "id": "e92b78b6",
   "metadata": {},
   "outputs": [
    {
     "name": "stdout",
     "output_type": "stream",
     "text": [
      "✅ branches.csv created successfully.\n"
     ]
    }
   ],
   "source": [
    "import pandas as pd\n",
    "\n",
    "# Create branch data\n",
    "branches_data = [\n",
    "    (1, 'London - Central', 'London'),\n",
    "    (2, 'London - East', 'London'),\n",
    "    (3, 'London - West', 'London'),\n",
    "    (4, 'Manchester - North', 'Manchester'),\n",
    "    (5, 'Manchester - South', 'Manchester'),\n",
    "    (6, 'Birmingham - City Centre', 'Birmingham'),\n",
    "    (7, 'Leeds - East', 'Leeds'),\n",
    "    (8, 'Leeds - West', 'Leeds'),\n",
    "    (9, 'Liverpool - Central', 'Liverpool'),\n",
    "    (10, 'Glasgow - Downtown', 'Glasgow'),\n",
    "]\n",
    "\n",
    "# Create DataFrame\n",
    "df_branches = pd.DataFrame(branches_data, columns=['branch_id', 'branch_name', 'region'])\n",
    "\n",
    "# Save to CSV\n",
    "df_branches.to_csv(\"branches.csv\", index=False)\n",
    "print(\"✅ branches.csv created successfully.\")\n"
   ]
  },
  {
   "cell_type": "code",
   "execution_count": 2,
   "id": "a953d9fc",
   "metadata": {},
   "outputs": [
    {
     "name": "stdout",
     "output_type": "stream",
     "text": [
      "✅ products.csv created successfully.\n"
     ]
    }
   ],
   "source": [
    "import random\n",
    "\n",
    "# Sample product categories and names\n",
    "categories = {\n",
    "    \"Electronics\": [\"Smartphone\", \"Laptop\", \"Tablet\", \"Headphones\", \"Smartwatch\"],\n",
    "    \"Clothing\": [\"T-Shirt\", \"Jeans\", \"Jacket\", \"Sneakers\", \"Cap\"],\n",
    "    \"Home\": [\"Chair\", \"Lamp\", \"Sofa\", \"Table\", \"Curtains\"]\n",
    "}\n",
    "\n",
    "# Generate 100 unique products\n",
    "products_data = []\n",
    "for product_id in range(1, 101):\n",
    "    category = random.choice(list(categories.keys()))\n",
    "    product_name = f\"{random.choice(categories[category])} {random.randint(100, 999)}\"\n",
    "    price = round(random.uniform(10, 1000), 2)\n",
    "    supplier_id = random.randint(1, 10)\n",
    "    products_data.append((product_id, product_name, category, price, supplier_id))\n",
    "\n",
    "# Create DataFrame\n",
    "df_products = pd.DataFrame(products_data, columns=['product_id', 'product_name', 'category', 'price', 'supplier_id'])\n",
    "\n",
    "# Save to CSV\n",
    "df_products.to_csv(\"products.csv\", index=False)\n",
    "print(\"✅ products.csv created successfully.\")\n"
   ]
  },
  {
   "cell_type": "code",
   "execution_count": 3,
   "id": "5d1e85f2",
   "metadata": {},
   "outputs": [
    {
     "name": "stdout",
     "output_type": "stream",
     "text": [
      "✅ suppliers.csv created successfully.\n"
     ]
    }
   ],
   "source": [
    "# Create sample supplier data\n",
    "suppliers_data = [\n",
    "    (1, \"GlobalTech Ltd\", 4),\n",
    "    (2, \"FashionNova UK\", 6),\n",
    "    (3, \"Home Essentials\", 3),\n",
    "    (4, \"ElectroMart\", 5),\n",
    "    (5, \"Urban Supplies\", 7),\n",
    "    (6, \"FreshWear\", 6),\n",
    "    (7, \"NovaRetail\", 4),\n",
    "    (8, \"BrightHome Co\", 5),\n",
    "    (9, \"EcoLiving\", 2),\n",
    "    (10, \"StyleHub\", 3),\n",
    "]\n",
    "\n",
    "# Create DataFrame\n",
    "df_suppliers = pd.DataFrame(suppliers_data, columns=['supplier_id', 'supplier_name', 'delivery_delay_avg'])\n",
    "\n",
    "# Save to CSV\n",
    "df_suppliers.to_csv(\"suppliers.csv\", index=False)\n",
    "print(\"✅ suppliers.csv created successfully.\")\n"
   ]
  },
  {
   "cell_type": "code",
   "execution_count": 4,
   "id": "e9021b7a",
   "metadata": {},
   "outputs": [
    {
     "name": "stdout",
     "output_type": "stream",
     "text": [
      "✅ inventory.csv created successfully.\n"
     ]
    }
   ],
   "source": [
    "from datetime import datetime, timedelta\n",
    "\n",
    "# Generate inventory data: 100 products × 10 branches = 1000 rows\n",
    "inventory_data = []\n",
    "for product_id in range(1, 101):\n",
    "    for branch_id in range(1, 11):\n",
    "        stock_on_hand = random.randint(0, 200)\n",
    "        last_updated = datetime.now() - timedelta(days=random.randint(0, 30))\n",
    "        inventory_data.append((product_id, branch_id, stock_on_hand, last_updated.date()))\n",
    "\n",
    "# Create DataFrame\n",
    "df_inventory = pd.DataFrame(inventory_data, columns=['product_id', 'branch_id', 'stock_on_hand', 'last_updated'])\n",
    "\n",
    "# Save to CSV\n",
    "df_inventory.to_csv(\"inventory.csv\", index=False)\n",
    "print(\"✅ inventory.csv created successfully.\")\n"
   ]
  },
  {
   "cell_type": "code",
   "execution_count": 5,
   "id": "2a97d2ef",
   "metadata": {},
   "outputs": [
    {
     "name": "stdout",
     "output_type": "stream",
     "text": [
      "✅ sales.csv created successfully.\n"
     ]
    }
   ],
   "source": [
    "# Generate 10,000 sales records\n",
    "sales_data = []\n",
    "for _ in range(10000):\n",
    "    product_id = random.randint(1, 100)\n",
    "    branch_id = random.randint(1, 10)\n",
    "    quantity_sold = random.randint(1, 10)\n",
    "    sale_date = datetime.now() - timedelta(days=random.randint(0, 60))\n",
    "    sales_data.append((product_id, branch_id, quantity_sold, sale_date.date()))\n",
    "\n",
    "# Create DataFrame\n",
    "df_sales = pd.DataFrame(sales_data, columns=['product_id', 'branch_id', 'quantity_sold', 'sale_date'])\n",
    "\n",
    "# Save to CSV\n",
    "df_sales.to_csv(\"sales.csv\", index=False)\n",
    "print(\"✅ sales.csv created successfully.\")\n"
   ]
  },
  {
   "cell_type": "code",
   "execution_count": 6,
   "id": "239e85da",
   "metadata": {},
   "outputs": [
    {
     "name": "stdout",
     "output_type": "stream",
     "text": [
      "✅ deliveries.csv created successfully.\n"
     ]
    }
   ],
   "source": [
    "# Generate 3000 delivery records\n",
    "deliveries_data = []\n",
    "for _ in range(3000):\n",
    "    supplier_id = random.randint(1, 10)\n",
    "    product_id = random.randint(1, 100)\n",
    "    branch_id = random.randint(1, 10)\n",
    "    expected_days = random.randint(2, 10)\n",
    "    delay = random.choice([-1, 0, 1, 2, 3])  # can be early, on-time, or delayed\n",
    "\n",
    "    expected_date = datetime.now() - timedelta(days=random.randint(0, 30))\n",
    "    actual_date = expected_date + timedelta(days=delay)\n",
    "\n",
    "    deliveries_data.append((\n",
    "        supplier_id, product_id, branch_id,\n",
    "        random.randint(10, 200),\n",
    "        expected_date.date(), actual_date.date()\n",
    "    ))\n",
    "\n",
    "# Create DataFrame\n",
    "df_deliveries = pd.DataFrame(deliveries_data, columns=[\n",
    "    'supplier_id', 'product_id', 'branch_id',\n",
    "    'quantity_delivered', 'expected_date', 'actual_date'\n",
    "])\n",
    "\n",
    "# Save to CSV\n",
    "df_deliveries.to_csv(\"deliveries.csv\", index=False)\n",
    "print(\"✅ deliveries.csv created successfully.\")\n"
   ]
  }
 ],
 "metadata": {
  "kernelspec": {
   "display_name": "Python 3",
   "language": "python",
   "name": "python3"
  },
  "language_info": {
   "codemirror_mode": {
    "name": "ipython",
    "version": 3
   },
   "file_extension": ".py",
   "mimetype": "text/x-python",
   "name": "python",
   "nbconvert_exporter": "python",
   "pygments_lexer": "ipython3",
   "version": "3.12.2"
  }
 },
 "nbformat": 4,
 "nbformat_minor": 5
}
